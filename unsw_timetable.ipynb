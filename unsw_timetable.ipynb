{
  "nbformat": 4,
  "nbformat_minor": 0,
  "metadata": {
    "colab": {
      "provenance": [],
      "authorship_tag": "ABX9TyMKP8uu847ZkbZ8oN84Td+V",
      "include_colab_link": true
    },
    "kernelspec": {
      "name": "python3",
      "display_name": "Python 3"
    },
    "language_info": {
      "name": "python"
    }
  },
  "cells": [
    {
      "cell_type": "markdown",
      "metadata": {
        "id": "view-in-github",
        "colab_type": "text"
      },
      "source": [
        "<a href=\"https://colab.research.google.com/github/tw107y/unsw_free_rooms/blob/main/unsw_timetable.ipynb\" target=\"_parent\"><img src=\"https://colab.research.google.com/assets/colab-badge.svg\" alt=\"Open In Colab\"/></a>"
      ]
    },
    {
      "cell_type": "code",
      "execution_count": null,
      "metadata": {
        "colab": {
          "base_uri": "https://localhost:8080/"
        },
        "id": "YHWGB1Q7cYf1",
        "outputId": "7939dc30-0f37-46cf-bd4d-4b4fb5904bb7"
      },
      "outputs": [
        {
          "output_type": "stream",
          "name": "stdout",
          "text": [
            "Looking in indexes: https://pypi.org/simple, https://us-python.pkg.dev/colab-wheels/public/simple/\n",
            "Requirement already satisfied: BeautifulSoup4 in /usr/local/lib/python3.10/dist-packages (4.11.2)\n",
            "Requirement already satisfied: soupsieve>1.2 in /usr/local/lib/python3.10/dist-packages (from BeautifulSoup4) (2.4.1)\n"
          ]
        }
      ],
      "source": [
        "!pip install BeautifulSoup4\n",
        "from bs4 import BeautifulSoup as bs"
      ]
    },
    {
      "cell_type": "code",
      "source": [
        "!pip install urllib3\n",
        "import urllib3"
      ],
      "metadata": {
        "colab": {
          "base_uri": "https://localhost:8080/"
        },
        "id": "GFN_CZYPkC0j",
        "outputId": "bc7eb882-8cf7-4940-9299-7dc7ae293867"
      },
      "execution_count": null,
      "outputs": [
        {
          "output_type": "stream",
          "name": "stdout",
          "text": [
            "Looking in indexes: https://pypi.org/simple, https://us-python.pkg.dev/colab-wheels/public/simple/\n",
            "Requirement already satisfied: urllib3 in /usr/local/lib/python3.10/dist-packages (1.26.15)\n"
          ]
        }
      ]
    },
    {
      "cell_type": "code",
      "source": [
        "import re"
      ],
      "metadata": {
        "id": "cV7GDakSl4e0"
      },
      "execution_count": null,
      "outputs": []
    },
    {
      "cell_type": "code",
      "source": [
        "from google.colab import drive\n",
        "drive.mount('/content/drive')"
      ],
      "metadata": {
        "colab": {
          "base_uri": "https://localhost:8080/"
        },
        "id": "AaIx1oHLA13D",
        "outputId": "c940068e-e6f4-432c-b375-fb1d55d97f3f"
      },
      "execution_count": null,
      "outputs": [
        {
          "output_type": "stream",
          "name": "stdout",
          "text": [
            "Mounted at /content/drive\n"
          ]
        }
      ]
    },
    {
      "cell_type": "markdown",
      "source": [
        "https://timetable.unsw.edu.au/2023/subjectSearch.html"
      ],
      "metadata": {
        "id": "buoOmk57FGLF"
      }
    },
    {
      "cell_type": "code",
      "source": [
        "# turn a url to raw html with http requests. \n",
        "# Pretty slow to run. Try not to run it.\n",
        "def url_to_raw_html(url: str) -> str:\n",
        "  http_pool = urllib3.connection_from_url(url)\n",
        "  response = http_pool.urlopen('GET',url)\n",
        "  soup = bs(response.data)\n",
        "  return soup.prettify()"
      ],
      "metadata": {
        "id": "PR5-kpe3cotd"
      },
      "execution_count": null,
      "outputs": []
    },
    {
      "cell_type": "markdown",
      "source": [
        "This block stores all room informations\n",
        "\n",
        "THIS BLOCK IS NOT USED RN BUT COULD BE USEFUL!\n",
        "\n",
        "Problems: some rooms seem to be missing? E.g when usage is set up turn and learn K-E8-G02 - Science & Engineering G02 shows. But we all know G01 and G03 are identical rooms to G03. Why are those not there? Potential freerooms are missing. \n",
        "\n",
        "Improvement: can use the usage tag to filter out lecture rooms rather than using max capacity. "
      ],
      "metadata": {
        "id": "IEhHDOqcsy-v"
      }
    },
    {
      "cell_type": "code",
      "source": [
        "main_url = 'https://www.learningenvironments.unsw.edu.au/find-teaching-space?building_name=&room_name=&field_room_capacity_int_value%5Bmin%5D=&field_room_capacity_int_value%5Bmax%5D='\n",
        "# default is 75 so we get rooms instead of lecture halls. Could go for lower values for smaller rooms.\n",
        "max_cap = '75'\n",
        "page_url = '&page='\n",
        "pg_no = 0\n",
        "combined_url = main_url + max_cap + page_url + str(pg_no)\n",
        "\n",
        "# Assume info_scraper is written\n",
        "while info_scrapper(combined_url):\n",
        "  pg_no += 1\n",
        "  combined_url = main_url + max_cap + page_url + str(pg_no)\n"
      ],
      "metadata": {
        "id": "SYEiA6IkqsLq"
      },
      "execution_count": null,
      "outputs": []
    },
    {
      "cell_type": "markdown",
      "source": [
        "New plan:\n",
        "\n",
        "hardcode undergrad t2/postgrad t2\n",
        "\n",
        "find school on main page: https://timetable.unsw.edu.au/2023/KENSPGRDT2.html\n",
        "\n",
        "find course on school page\n",
        "\n",
        "find class time on course page\n",
        "\n",
        "Problem: some other terms like hexamester is not accounted for"
      ],
      "metadata": {
        "id": "6KVB9gp_fyJf"
      }
    },
    {
      "cell_type": "code",
      "source": [
        "all_times = []\n",
        "all_locations = []\n",
        "ug_schools = []\n",
        "pg_schools = []\n",
        "course_codes = set()"
      ],
      "metadata": {
        "id": "9ka1zMgPjr-g"
      },
      "execution_count": null,
      "outputs": []
    },
    {
      "cell_type": "code",
      "source": [
        "class TimeBlock:\n",
        "  def __init__(self, day, start, end, location):\n",
        "    self.day = day\n",
        "    self.start = start\n",
        "    self.end = end\n",
        "    self.location = location\n",
        "\n",
        "  def __str__(self):\n",
        "    return f\"Day: {self.day}.\\nTime: {self.start} - {self.end}.\\nLocation: {self.location}.\""
      ],
      "metadata": {
        "id": "Q4QAj9HZiTA7"
      },
      "execution_count": null,
      "outputs": []
    },
    {
      "cell_type": "code",
      "source": [
        "def school_scrapper(url, b):\n",
        "  raw_html = url_to_raw_html(url)\n",
        "  lines = raw_html.split('\\n')\n",
        "  all_matches = []\n",
        "  for line in lines:\n",
        "    nw_line = line.strip()\n",
        "    if re.search(\"^[A-Z]{4}$\",nw_line):\n",
        "      all_matches.append(re.findall(\"^[A-Z]{4}$\",nw_line))\n",
        "  for school in all_matches:\n",
        "    if b == 1:\n",
        "      ug_schools.append(school[0])\n",
        "    else:\n",
        "      pg_schools.append(school[0])\n",
        "\n",
        "# school_scrapper('https://timetable.unsw.edu.au/2023/KENSUGRDT2.html')"
      ],
      "metadata": {
        "id": "jgUCRDiAiM1z"
      },
      "execution_count": null,
      "outputs": []
    },
    {
      "cell_type": "code",
      "source": [
        "def course_scrapper(url):\n",
        "  raw_html = url_to_raw_html(url)\n",
        "  lines = raw_html.split('\\n')\n",
        "  all_matches = []\n",
        "  for line in lines:\n",
        "    nw_line = line.strip()\n",
        "    if re.search(\"^[A-Z]{4}[0-9]{4}$\",nw_line):\n",
        "      all_matches.append(re.findall(\"^[A-Z]{4}[0-9]{4}$\",nw_line))\n",
        "  for code in all_matches:\n",
        "    course_codes.add(code[0])\n",
        "\n",
        "# course_scrapper('https://timetable.unsw.edu.au/2023/KENSUGRDT2ACCT.html')"
      ],
      "metadata": {
        "id": "Ohjq540miQKM"
      },
      "execution_count": null,
      "outputs": []
    },
    {
      "cell_type": "markdown",
      "source": [
        "PROBLEM: FUCKED IF A CLASS HAVE 2 LOCATIONS. NEED TO CHECK FURTHER FOR THAT CASE\n",
        "\n",
        "Problem: sometimes location might be empty. Need to do a regex check rather than checking whether its online. Currently this is solved when we load the json data but not solved when we run the code for the first time."
      ],
      "metadata": {
        "id": "Mfka3gJ_wK7W"
      }
    },
    {
      "cell_type": "code",
      "source": [
        "_day = 15\n",
        "_time = 18\n",
        "_location = 21\n",
        "\n",
        "def time_scrapper(url):\n",
        "  raw_html = url_to_raw_html(url)\n",
        "  lines = raw_html.split('\\n')\n",
        "  for idx, line in enumerate(lines):\n",
        "    nw_line = line.strip()\n",
        "    if re.search(\"Location\",nw_line):\n",
        "      # FIND A BETTER WAY THAN JUST HARD CODING\n",
        "      day_line = lines[idx + _day].strip()\n",
        "      time_line = lines[idx + _time].strip()\n",
        "      location_line = lines[idx + _location].strip()\n",
        "      location_info = location_line.split(' ')\n",
        "      if location_info[-1][1:-1] == 'ONLINE':\n",
        "        continue\n",
        "      time = TimeBlock(day_line, time_line[0:5], time_line[8:13], location_info[-1][1:-1])\n",
        "      all_times.append(time)\n",
        "\n",
        "# time_scrapper('https://timetable.unsw.edu.au/2023/ACCT5910.html')"
      ],
      "metadata": {
        "id": "X7VSS1F4iGaq"
      },
      "execution_count": null,
      "outputs": []
    },
    {
      "cell_type": "code",
      "source": [
        "ugt2_url = 'https://timetable.unsw.edu.au/2023/KENSUGRDT2.html'\n",
        "pgt2_url = 'https://timetable.unsw.edu.au/2023/KENSPGRDT2.html'\n",
        "school_scrapper(ugt2_url, 1)\n",
        "school_scrapper(pgt2_url, 0)\n",
        "ug_base_url = 'https://timetable.unsw.edu.au/2023/KENSUGRDT2' # + SCHL + .html\n",
        "pg_base_url = 'https://timetable.unsw.edu.au/2023/KENSPGRDT2' # + SCHL + .html"
      ],
      "metadata": {
        "id": "GDkYYPm6fpLZ"
      },
      "execution_count": null,
      "outputs": []
    },
    {
      "cell_type": "code",
      "source": [
        "print(ug_schools)\n",
        "print(pg_schools)"
      ],
      "metadata": {
        "colab": {
          "base_uri": "https://localhost:8080/"
        },
        "id": "vdqAcAQ0zSJK",
        "outputId": "039dd45f-567f-4dc1-8c89-5ac9bece6b6a"
      },
      "execution_count": null,
      "outputs": [
        {
          "output_type": "stream",
          "name": "stdout",
          "text": [
            "['ACCT', 'ACTL', 'AERO', 'ANAT', 'ARCH', 'ARTS', 'ATSI', 'AVIA', 'BABS', 'BEES', 'BEIL', 'BENV', 'BINF', 'BIOC', 'BIOM', 'BIOS', 'BLDG', 'CDEV', 'CEIC', 'CHEM', 'CHEN', 'CLIM', 'CODE', 'COMM', 'COMP', 'CRIM', 'CVEN', 'DATA', 'DESN', 'ECON', 'EDST', 'ELEC', 'ENGG', 'FADA', 'FADA', 'FINS', 'FOOD', 'GENC', 'GENE', 'GENL', 'GENS', 'GENY', 'GEOS', 'GMAT', 'HDAT', 'HESC', 'HLTH', 'HUMS', 'IDES', 'INFS', 'INST', 'INTA', 'LAND', 'LAWS', 'MANF', 'MARK', 'MATH', 'MATS', 'MDIA', 'MECH', 'MERE', 'MFAC', 'MGMT', 'MINE', 'MMAN', 'MSCI', 'MTRN', 'MUSC', 'NANO', 'NEUR', 'OPTM', 'PATH', 'PHAR', 'PHCM', 'PHRM', 'PHSL', 'PHTN', 'PHYS', 'PLAN', 'PSCY', 'PSYC', 'PTRL', 'REGZ', 'RISK', 'SCIF', 'SENG', 'SOCW', 'SOLA', 'SOMS', 'SOSS', 'SRAP', 'TABL', 'TELE', 'VISN']\n",
            "['ACCT', 'ACTL', 'AGSM', 'ARCH', 'AVIA', 'AVIG', 'BABS', 'BEES', 'BENV', 'BINF', 'BIOM', 'BIOS', 'CDEV', 'CEIC', 'CHEM', 'CHEN', 'CLIM', 'COMD', 'COMM', 'COMP', 'CONS', 'CVEN', 'DATA', 'ECON', 'EDST', 'ELEC', 'ENGG', 'FADA', 'FADA', 'FINS', 'FOOD', 'GMAT', 'GSOE', 'HDAT', 'IEST', 'INFS', 'JURD', 'LAND', 'LAWS', 'LING', 'MANF', 'MARK', 'MATH', 'MATS', 'MBAE', 'MDIA', 'MECH', 'MERE', 'MFIN', 'MGMT', 'MINE', 'MMAN', 'MNGT', 'MODL', 'MSCI', 'MTRN', 'OPTM', 'PHCM', 'PHTN', 'PHYS', 'PLAN', 'PLTX', 'POLS', 'PSCY', 'PSYC', 'PTRL', 'REST', 'RISK', 'SOCF', 'SOCW', 'SOLA', 'SRAP', 'SUSD', 'SWCH', 'TABL', 'TELE', 'UDES', 'VISN']\n"
          ]
        }
      ]
    },
    {
      "cell_type": "code",
      "source": [
        "for school in ug_schools:\n",
        "  complete_url = ug_base_url + school + '.html'\n",
        "  course_scrapper(complete_url)\n",
        "for school in pg_schools:\n",
        "  complete_url = pg_base_url + school + '.html'\n",
        "  course_scrapper(complete_url)"
      ],
      "metadata": {
        "id": "9ObHtOmYzKdG"
      },
      "execution_count": null,
      "outputs": []
    },
    {
      "cell_type": "code",
      "source": [
        "print(len(course_codes))"
      ],
      "metadata": {
        "colab": {
          "base_uri": "https://localhost:8080/"
        },
        "id": "AxIx2otozV88",
        "outputId": "8c0f6a59-7b27-49d5-b4ff-c5446358393a"
      },
      "execution_count": null,
      "outputs": [
        {
          "output_type": "stream",
          "name": "stdout",
          "text": [
            "1381\n"
          ]
        }
      ]
    },
    {
      "cell_type": "code",
      "source": [
        "course_base_url = 'https://timetable.unsw.edu.au/2023/' # + CODECODE + .html\n",
        "for course in course_codes:\n",
        "  complete_url = course_base_url + course + '.html'\n",
        "  time_scrapper(complete_url)"
      ],
      "metadata": {
        "id": "maQC9gPAzKPG"
      },
      "execution_count": null,
      "outputs": []
    },
    {
      "cell_type": "code",
      "source": [
        "print(len(all_times))"
      ],
      "metadata": {
        "colab": {
          "base_uri": "https://localhost:8080/"
        },
        "id": "O1WN9AvTyu9t",
        "outputId": "f091e1d1-ee7f-4fd0-e60d-50ef2838d98d"
      },
      "execution_count": null,
      "outputs": [
        {
          "output_type": "stream",
          "name": "stdout",
          "text": [
            "5864\n"
          ]
        }
      ]
    },
    {
      "cell_type": "code",
      "source": [
        "import json"
      ],
      "metadata": {
        "id": "cgJ9TUp6-Ih_"
      },
      "execution_count": null,
      "outputs": []
    },
    {
      "cell_type": "code",
      "source": [
        "json_string = json.dumps([obj.__dict__ for obj in all_times])\n",
        "\n",
        "with open('/content/drive/MyDrive/data/unsw_timetable/time_data', 'w') as file:\n",
        "    json.dump(json_string, file)"
      ],
      "metadata": {
        "id": "LRx_gIAk96nh"
      },
      "execution_count": null,
      "outputs": []
    },
    {
      "cell_type": "code",
      "source": [
        "all_times = []"
      ],
      "metadata": {
        "id": "mDFIHfRYEHFN"
      },
      "execution_count": null,
      "outputs": []
    },
    {
      "cell_type": "code",
      "source": [
        "raw_json = None\n",
        "with open('/content/drive/MyDrive/data/unsw_timetable/time_data', 'r') as file:\n",
        "    raw_json = json.load(file)\n",
        "all_times_raw = json.loads(raw_json)\n",
        "\n",
        "for d in all_times_raw:\n",
        "  if not d['location']:\n",
        "    continue\n",
        "  all_times.append(TimeBlock(d['day'], d['start'], d['end'], d['location']))\n",
        "print(len(all_times))"
      ],
      "metadata": {
        "colab": {
          "base_uri": "https://localhost:8080/"
        },
        "id": "HonaLZZ7B-F7",
        "outputId": "32281666-e0a5-45b2-d19f-74997ef46f60"
      },
      "execution_count": null,
      "outputs": [
        {
          "output_type": "stream",
          "name": "stdout",
          "text": [
            "5653\n"
          ]
        }
      ]
    }
  ]
}