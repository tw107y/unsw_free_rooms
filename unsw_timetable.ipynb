{
  "nbformat": 4,
  "nbformat_minor": 0,
  "metadata": {
    "colab": {
      "provenance": [],
      "authorship_tag": "ABX9TyNHs0vVZ7GgI8d/UuQwc8kH",
      "include_colab_link": true
    },
    "kernelspec": {
      "name": "python3",
      "display_name": "Python 3"
    },
    "language_info": {
      "name": "python"
    }
  },
  "cells": [
    {
      "cell_type": "markdown",
      "metadata": {
        "id": "view-in-github",
        "colab_type": "text"
      },
      "source": [
        "<a href=\"https://colab.research.google.com/github/tw107y/unsw_free_rooms/blob/main/unsw_timetable.ipynb\" target=\"_parent\"><img src=\"https://colab.research.google.com/assets/colab-badge.svg\" alt=\"Open In Colab\"/></a>"
      ]
    },
    {
      "cell_type": "code",
      "execution_count": null,
      "metadata": {
        "colab": {
          "base_uri": "https://localhost:8080/"
        },
        "id": "YHWGB1Q7cYf1",
        "outputId": "7939dc30-0f37-46cf-bd4d-4b4fb5904bb7"
      },
      "outputs": [
        {
          "output_type": "stream",
          "name": "stdout",
          "text": [
            "Looking in indexes: https://pypi.org/simple, https://us-python.pkg.dev/colab-wheels/public/simple/\n",
            "Requirement already satisfied: BeautifulSoup4 in /usr/local/lib/python3.10/dist-packages (4.11.2)\n",
            "Requirement already satisfied: soupsieve>1.2 in /usr/local/lib/python3.10/dist-packages (from BeautifulSoup4) (2.4.1)\n"
          ]
        }
      ],
      "source": [
        "!pip install BeautifulSoup4\n",
        "from bs4 import BeautifulSoup as bs"
      ]
    },
    {
      "cell_type": "code",
      "source": [
        "!pip install urllib3\n",
        "import urllib3"
      ],
      "metadata": {
        "colab": {
          "base_uri": "https://localhost:8080/"
        },
        "id": "GFN_CZYPkC0j",
        "outputId": "bc7eb882-8cf7-4940-9299-7dc7ae293867"
      },
      "execution_count": null,
      "outputs": [
        {
          "output_type": "stream",
          "name": "stdout",
          "text": [
            "Looking in indexes: https://pypi.org/simple, https://us-python.pkg.dev/colab-wheels/public/simple/\n",
            "Requirement already satisfied: urllib3 in /usr/local/lib/python3.10/dist-packages (1.26.15)\n"
          ]
        }
      ]
    },
    {
      "cell_type": "code",
      "source": [
        "import re"
      ],
      "metadata": {
        "id": "cV7GDakSl4e0"
      },
      "execution_count": null,
      "outputs": []
    },
    {
      "cell_type": "code",
      "source": [
        "from google.colab import drive\n",
        "drive.mount('/content/drive')"
      ],
      "metadata": {
        "colab": {
          "base_uri": "https://localhost:8080/"
        },
        "id": "AaIx1oHLA13D",
        "outputId": "c940068e-e6f4-432c-b375-fb1d55d97f3f"
      },
      "execution_count": null,
      "outputs": [
        {
          "output_type": "stream",
          "name": "stdout",
          "text": [
            "Mounted at /content/drive\n"
          ]
        }
      ]
    },
    {
      "cell_type": "markdown",
      "source": [
        "https://timetable.unsw.edu.au/2023/subjectSearch.html"
      ],
      "metadata": {
        "id": "buoOmk57FGLF"
      }
    },
    {
      "cell_type": "code",
      "source": [
        "# turn a url to raw html with http requests. \n",
        "# Pretty slow to run. Try not to run it.\n",
        "def url_to_raw_html(url: str) -> str:\n",
        "  http_pool = urllib3.connection_from_url(url)\n",
        "  response = http_pool.urlopen('GET',url)\n",
        "  soup = bs(response.data)\n",
        "  return soup.prettify()"
      ],
      "metadata": {
        "id": "PR5-kpe3cotd"
      },
      "execution_count": null,
      "outputs": []
    },
    {
      "cell_type": "markdown",
      "source": [
        "This block stores all room informations\n",
        "\n",
        "THIS BLOCK IS NOT USED RN BUT COULD BE USEFUL!\n",
        "\n",
        "Problems: some rooms seem to be missing? E.g when usage is set up turn and learn K-E8-G02 - Science & Engineering G02 shows. But we all know G01 and G03 are identical rooms to G03. Why are those not there? Potential freerooms are missing. \n",
        "\n",
        "Improvement: can use the usage tag to filter out lecture rooms rather than using max capacity. "
      ],
      "metadata": {
        "id": "IEhHDOqcsy-v"
      }
    },
    {
      "cell_type": "code",
      "source": [
        "main_url = 'https://www.learningenvironments.unsw.edu.au/find-teaching-space?building_name=&room_name=&field_room_capacity_int_value%5Bmin%5D=&field_room_capacity_int_value%5Bmax%5D='\n",
        "# default is 75 so we get rooms instead of lecture halls. Could go for lower values for smaller rooms.\n",
        "max_cap = '75'\n",
        "page_url = '&page='\n",
        "pg_no = 0\n",
        "combined_url = main_url + max_cap + page_url + str(pg_no)\n",
        "\n",
        "# Assume info_scraper is written\n",
        "while info_scrapper(combined_url):\n",
        "  pg_no += 1\n",
        "  combined_url = main_url + max_cap + page_url + str(pg_no)\n"
      ],
      "metadata": {
        "id": "SYEiA6IkqsLq"
      },
      "execution_count": null,
      "outputs": []
    },
    {
      "cell_type": "markdown",
      "source": [
        "New plan:\n",
        "\n",
        "hardcode undergrad t2/postgrad t2\n",
        "\n",
        "find school on main page: https://timetable.unsw.edu.au/2023/KENSPGRDT2.html\n",
        "\n",
        "find course on school page\n",
        "\n",
        "find class time on course page\n",
        "\n",
        "Problem: some other terms like hexamester is not accounted for"
      ],
      "metadata": {
        "id": "6KVB9gp_fyJf"
      }
    },
    {
      "cell_type": "code",
      "source": [
        "all_times = []\n",
        "all_locations = []\n",
        "ug_schools = []\n",
        "pg_schools = []\n",
        "course_codes = set()"
      ],
      "metadata": {
        "id": "9ka1zMgPjr-g"
      },
      "execution_count": null,
      "outputs": []
    },
    {
      "cell_type": "code",
      "source": [
        "class TimeBlock:\n",
        "  def __init__(self, day, start, end, location):\n",
        "    self.day = day\n",
        "    self.start = start\n",
        "    self.end = end\n",
        "    self.location = location\n",
        "\n",
        "  def __str__(self):\n",
        "    return f\"Day: {self.day}.\\nTime: {self.start} - {self.end}.\\nLocation: {self.location}.\""
      ],
      "metadata": {
        "id": "Q4QAj9HZiTA7"
      },
      "execution_count": null,
      "outputs": []
    },
    {
      "cell_type": "code",
      "source": [
        "def school_scrapper(url, b):\n",
        "  raw_html = url_to_raw_html(url)\n",
        "  lines = raw_html.split('\\n')\n",
        "  all_matches = []\n",
        "  for line in lines:\n",
        "    nw_line = line.strip()\n",
        "    if re.search(\"^[A-Z]{4}$\",nw_line):\n",
        "      all_matches.append(re.findall(\"^[A-Z]{4}$\",nw_line))\n",
        "  for school in all_matches:\n",
        "    if b == 1:\n",
        "      ug_schools.append(school[0])\n",
        "    else:\n",
        "      pg_schools.append(school[0])\n",
        "\n",
        "# school_scrapper('https://timetable.unsw.edu.au/2023/KENSUGRDT2.html')"
      ],
      "metadata": {
        "id": "jgUCRDiAiM1z"
      },
      "execution_count": null,
      "outputs": []
    },
    {
      "cell_type": "code",
      "source": [
        "def course_scrapper(url):\n",
        "  raw_html = url_to_raw_html(url)\n",
        "  lines = raw_html.split('\\n')\n",
        "  all_matches = []\n",
        "  for line in lines:\n",
        "    nw_line = line.strip()\n",
        "    if re.search(\"^[A-Z]{4}[0-9]{4}$\",nw_line):\n",
        "      all_matches.append(re.findall(\"^[A-Z]{4}[0-9]{4}$\",nw_line))\n",
        "  for code in all_matches:\n",
        "    course_codes.add(code[0])\n",
        "\n",
        "# course_scrapper('https://timetable.unsw.edu.au/2023/KENSUGRDT2ACCT.html')"
      ],
      "metadata": {
        "id": "Ohjq540miQKM"
      },
      "execution_count": null,
      "outputs": []
    },
    {
      "cell_type": "markdown",
      "source": [
        "PROBLEM: FUCKED IF A CLASS HAVE 2 LOCATIONS. NEED TO CHECK FURTHER FOR THAT CASE\n",
        "\n",
        "Problem: sometimes location might be empty. Need to do a regex check rather than checking whether its online. Currently this is solved when we load the json data but not solved when we run the code for the first time."
      ],
      "metadata": {
        "id": "Mfka3gJ_wK7W"
      }
    },
    {
      "cell_type": "code",
      "source": [
        "_day = 15\n",
        "_time = 18\n",
        "_location = 21\n",
        "\n",
        "def time_scrapper(url):\n",
        "  raw_html = url_to_raw_html(url)\n",
        "  lines = raw_html.split('\\n')\n",
        "  for idx, line in enumerate(lines):\n",
        "    nw_line = line.strip()\n",
        "    if re.search(\"Location\",nw_line):\n",
        "      # FIND A BETTER WAY THAN JUST HARD CODING\n",
        "      day_line = lines[idx + _day].strip()\n",
        "      time_line = lines[idx + _time].strip()\n",
        "      location_line = lines[idx + _location].strip()\n",
        "      location_info = location_line.split(' ')\n",
        "      if location_info[-1][1:-1] == 'ONLINE':\n",
        "        continue\n",
        "      time = TimeBlock(day_line, time_line[0:5], time_line[8:13], location_info[-1][1:-1])\n",
        "      all_times.append(time)\n",
        "\n",
        "# time_scrapper('https://timetable.unsw.edu.au/2023/ACCT5910.html')"
      ],
      "metadata": {
        "id": "X7VSS1F4iGaq"
      },
      "execution_count": null,
      "outputs": []
    },
    {
      "cell_type": "code",
      "source": [
        "ugt2_url = 'https://timetable.unsw.edu.au/2023/KENSUGRDT2.html'\n",
        "pgt2_url = 'https://timetable.unsw.edu.au/2023/KENSPGRDT2.html'\n",
        "school_scrapper(ugt2_url, 1)\n",
        "school_scrapper(pgt2_url, 0)\n",
        "ug_base_url = 'https://timetable.unsw.edu.au/2023/KENSUGRDT2' # + SCHL + .html\n",
        "pg_base_url = 'https://timetable.unsw.edu.au/2023/KENSPGRDT2' # + SCHL + .html"
      ],
      "metadata": {
        "id": "GDkYYPm6fpLZ"
      },
      "execution_count": null,
      "outputs": []
    },
    {
      "cell_type": "code",
      "source": [
        "print(ug_schools)\n",
        "print(pg_schools)"
      ],
      "metadata": {
        "colab": {
          "base_uri": "https://localhost:8080/"
        },
        "id": "vdqAcAQ0zSJK",
        "outputId": "039dd45f-567f-4dc1-8c89-5ac9bece6b6a"
      },
      "execution_count": null,
      "outputs": [
        {
          "output_type": "stream",
          "name": "stdout",
          "text": [
            "['ACCT', 'ACTL', 'AERO', 'ANAT', 'ARCH', 'ARTS', 'ATSI', 'AVIA', 'BABS', 'BEES', 'BEIL', 'BENV', 'BINF', 'BIOC', 'BIOM', 'BIOS', 'BLDG', 'CDEV', 'CEIC', 'CHEM', 'CHEN', 'CLIM', 'CODE', 'COMM', 'COMP', 'CRIM', 'CVEN', 'DATA', 'DESN', 'ECON', 'EDST', 'ELEC', 'ENGG', 'FADA', 'FADA', 'FINS', 'FOOD', 'GENC', 'GENE', 'GENL', 'GENS', 'GENY', 'GEOS', 'GMAT', 'HDAT', 'HESC', 'HLTH', 'HUMS', 'IDES', 'INFS', 'INST', 'INTA', 'LAND', 'LAWS', 'MANF', 'MARK', 'MATH', 'MATS', 'MDIA', 'MECH', 'MERE', 'MFAC', 'MGMT', 'MINE', 'MMAN', 'MSCI', 'MTRN', 'MUSC', 'NANO', 'NEUR', 'OPTM', 'PATH', 'PHAR', 'PHCM', 'PHRM', 'PHSL', 'PHTN', 'PHYS', 'PLAN', 'PSCY', 'PSYC', 'PTRL', 'REGZ', 'RISK', 'SCIF', 'SENG', 'SOCW', 'SOLA', 'SOMS', 'SOSS', 'SRAP', 'TABL', 'TELE', 'VISN']\n",
            "['ACCT', 'ACTL', 'AGSM', 'ARCH', 'AVIA', 'AVIG', 'BABS', 'BEES', 'BENV', 'BINF', 'BIOM', 'BIOS', 'CDEV', 'CEIC', 'CHEM', 'CHEN', 'CLIM', 'COMD', 'COMM', 'COMP', 'CONS', 'CVEN', 'DATA', 'ECON', 'EDST', 'ELEC', 'ENGG', 'FADA', 'FADA', 'FINS', 'FOOD', 'GMAT', 'GSOE', 'HDAT', 'IEST', 'INFS', 'JURD', 'LAND', 'LAWS', 'LING', 'MANF', 'MARK', 'MATH', 'MATS', 'MBAE', 'MDIA', 'MECH', 'MERE', 'MFIN', 'MGMT', 'MINE', 'MMAN', 'MNGT', 'MODL', 'MSCI', 'MTRN', 'OPTM', 'PHCM', 'PHTN', 'PHYS', 'PLAN', 'PLTX', 'POLS', 'PSCY', 'PSYC', 'PTRL', 'REST', 'RISK', 'SOCF', 'SOCW', 'SOLA', 'SRAP', 'SUSD', 'SWCH', 'TABL', 'TELE', 'UDES', 'VISN']\n"
          ]
        }
      ]
    },
    {
      "cell_type": "code",
      "source": [
        "for school in ug_schools:\n",
        "  complete_url = ug_base_url + school + '.html'\n",
        "  course_scrapper(complete_url)\n",
        "for school in pg_schools:\n",
        "  complete_url = pg_base_url + school + '.html'\n",
        "  course_scrapper(complete_url)"
      ],
      "metadata": {
        "id": "9ObHtOmYzKdG"
      },
      "execution_count": null,
      "outputs": []
    },
    {
      "cell_type": "code",
      "source": [
        "print(len(course_codes))"
      ],
      "metadata": {
        "colab": {
          "base_uri": "https://localhost:8080/"
        },
        "id": "AxIx2otozV88",
        "outputId": "8c0f6a59-7b27-49d5-b4ff-c5446358393a"
      },
      "execution_count": null,
      "outputs": [
        {
          "output_type": "stream",
          "name": "stdout",
          "text": [
            "1381\n"
          ]
        }
      ]
    },
    {
      "cell_type": "code",
      "source": [
        "print(sorted(course_codes))"
      ],
      "metadata": {
        "colab": {
          "base_uri": "https://localhost:8080/"
        },
        "id": "q24dL6L60fKn",
        "outputId": "9a245b6b-ef23-4293-e582-0c59f750cd9c"
      },
      "execution_count": null,
      "outputs": [
        {
          "output_type": "stream",
          "name": "stdout",
          "text": [
            "['ACCT2542', 'ACCT3202', 'ACCT3303', 'ACCT3610', 'ACCT3672', 'ACCT3995', 'ACCT4797', 'ACCT4852', 'ACCT4897', 'ACCT5910', 'ACCT5919', 'ACCT5925', 'ACCT5930', 'ACCT5942', 'ACCT5943', 'ACCT5949', 'ACCT5952', 'ACCT5961', 'ACCT5967', 'ACCT5995', 'ACCT5996', 'ACCT5998', 'ACCT5999', 'ACTL1101', 'ACTL2101', 'ACTL2102', 'ACTL3142', 'ACTL3143', 'ACTL3202', 'ACTL3301', 'ACTL3303', 'ACTL4002', 'ACTL4003', 'ACTL4011', 'ACTL5004', 'ACTL5103', 'ACTL5110', 'ACTL5111', 'ACTL5200', 'ACTL5301', 'ACTL6104', 'ACTL6105', 'AERO3110', 'AGSM6131', 'AGSM6143', 'AGSM6210', 'AGSM6234', 'AGSM6251', 'AGSM6275', 'AGSM6321', 'AGSM9101', 'AGSM9132', 'AGSM9137', 'AGSM9150', 'AGSM9152', 'AGSM9153', 'AGSM9154', 'AGSM9155', 'AGSM9156', 'AGSM9271', 'AGSM9274', 'ANAT1451', 'ANAT1521', 'ANAT2111', 'ANAT2241', 'ANAT2521', 'ANAT3131', 'ARCH1161', 'ARCH1162', 'ARCH1222', 'ARCH1261', 'ARCH1302', 'ARCH1361', 'ARCH7112', 'ARCH7182', 'ARCH7202', 'ARCH7213', 'ARCH7220', 'ARCH7251', 'ARCH7252', 'ARCH7253', 'ARCH7254', 'ARCH7304', 'ARTS1032', 'ARTS1064', 'ARTS1121', 'ARTS1210', 'ARTS1240', 'ARTS1271', 'ARTS1360', 'ARTS1450', 'ARTS1452', 'ARTS1480', 'ARTS1510', 'ARTS1540', 'ARTS1571', 'ARTS1630', 'ARTS1660', 'ARTS1782', 'ARTS1846', 'ARTS2031', 'ARTS2033', 'ARTS2062', 'ARTS2064', 'ARTS2123', 'ARTS2126', 'ARTS2244', 'ARTS2248', 'ARTS2278', 'ARTS2282', 'ARTS2362', 'ARTS2375', 'ARTS2457', 'ARTS2481', 'ARTS2485', 'ARTS2511', 'ARTS2633', 'ARTS2662', 'ARTS2692', 'ARTS2693', 'ARTS2698', 'ARTS2754', 'ARTS2785', 'ARTS2815', 'ARTS2819', 'ARTS2822', 'ARTS2845', 'ARTS2852', 'ARTS2877', 'ARTS2900', 'ARTS2908', 'ARTS3015', 'ARTS3023', 'ARTS3026', 'ARTS3047', 'ARTS3048', 'ARTS3054', 'ARTS3062', 'ARTS3065', 'ARTS3123', 'ARTS3132', 'ARTS3220', 'ARTS3241', 'ARTS3270', 'ARTS3290', 'ARTS3330', 'ARTS3373', 'ARTS3377', 'ARTS3451', 'ARTS3453', 'ARTS3463', 'ARTS3483', 'ARTS3570', 'ARTS3576', 'ARTS3631', 'ARTS3633', 'ARTS3638', 'ARTS3639', 'ARTS3690', 'ARTS3755', 'ARTS3756', 'ARTS3810', 'ARTS3818', 'ARTS3820', 'ARTS3821', 'ARTS3822', 'ARTS3872', 'ARTS3886', 'ARTS4202', 'ARTS4249', 'ARTS4268', 'ARTS4604', 'ARTS4605', 'ARTS4608', 'ARTS4609', 'ARTS4612', 'ARTS4613', 'ARTS4616', 'ARTS4617', 'ARTS4620', 'ARTS4621', 'ARTS4700', 'ARTS4701', 'ARTS4702', 'ARTS4704', 'ARTS4705', 'ARTS4706', 'ARTS4712', 'ARTS4713', 'ARTS4714', 'ARTS4810', 'ARTS4811', 'ARTS4812', 'ARTS4814', 'ARTS4815', 'ARTS4816', 'ARTS4818', 'ARTS4819', 'ARTS4820', 'ARTS4822', 'ARTS4823', 'ARTS4824', 'ARTS4826', 'ARTS4827', 'ARTS4828', 'ARTS4830', 'ARTS4831', 'ARTS4832', 'ARTS4834', 'ARTS4835', 'ARTS4836', 'ARTS4838', 'ARTS4839', 'ARTS4840', 'ARTS4900', 'ARTS4901', 'ARTS4902', 'ARTS4904', 'ARTS4905', 'ARTS4906', 'ARTS4912', 'ARTS4913', 'ARTS4914', 'ARTS4916', 'ARTS4917', 'ARTS4918', 'ARTS4920', 'ARTS4921', 'ARTS4922', 'ARTS4924', 'ARTS4925', 'ARTS4926', 'ARTS4927', 'ARTS4928', 'ARTS4929', 'ATSI2004', 'ATSI3005', 'AVIA1902', 'AVIA2114', 'AVIA2115', 'AVIA2116', 'AVIA2401', 'AVIA2701', 'AVIA3111', 'AVIA3112', 'AVIA3113', 'AVIA3199', 'AVIA3299', 'AVIA3410', 'AVIA3710', 'AVIA3910', 'AVIA4003', 'AVIA4004', 'AVIA5003', 'AVIA5004', 'AVIA5006', 'AVIA5008', 'AVIA5009', 'AVIA5024', 'AVIA5035', 'AVIG5912', 'BABS1111', 'BABS1112', 'BABS1202', 'BABS2202', 'BABS3031', 'BABS3081', 'BABS3151', 'BABS3199', 'BABS3299', 'BABS3301', 'BABS3631', 'BABS4516', 'BABS5019', 'BABS5029', 'BABS5039', 'BABS7180', 'BABS8010', 'BEES0006', 'BEES2680', 'BEES2741', 'BEES3041', 'BEES3199', 'BEES3299', 'BEES4517', 'BEES9011', 'BEES9041', 'BEIL0007', 'BEIL0008', 'BENV1012', 'BENV1015', 'BENV2112', 'BENV2942', 'BENV4000', 'BENV7020', 'BENV7728', 'BENV7811', 'BINF3010', 'BINF9010', 'BIOC2101', 'BIOC3111', 'BIOC3271', 'BIOC3671', 'BIOM1010', 'BIOM4951', 'BIOM4952', 'BIOM4953', 'BIOM9020', 'BIOM9021', 'BIOM9332', 'BIOM9420', 'BIOM9660', 'BIOM9914', 'BIOS1101', 'BIOS2061', 'BIOS2500', 'BIOS3011', 'BIOS3061', 'BIOS6723', 'BIOS9231', 'BLDG1014', 'BLDG1021', 'BLDG1023', 'BLDG2011', 'BLDG2012', 'BLDG3013', 'BLDG3021', 'BLDG4020', 'BLDG4022', 'CDEV2000', 'CDEV3000', 'CDEV3001', 'CDEV3012', 'CDEV3013', 'CDEV3100', 'CDEV3200', 'CDEV3300', 'CDEV3500', 'CDEV6000', 'CDEV6100', 'CEIC2002', 'CEIC2005', 'CEIC3006', 'CEIC3007', 'CEIC4000', 'CEIC4008', 'CEIC4951', 'CEIC4952', 'CEIC4953', 'CEIC4954', 'CEIC6712', 'CEIC6789', 'CEIC8104', 'CEIC8204', 'CEIC9005', 'CEIC9951', 'CEIC9952', 'CEIC9953', 'CHEM1011', 'CHEM1021', 'CHEM1041', 'CHEM1061', 'CHEM1821', 'CHEM2011', 'CHEM2021', 'CHEM2999', 'CHEM3031', 'CHEM3199', 'CHEM3299', 'CHEM3998', 'CHEM4501', 'CHEM4502', 'CHEM4503', 'CHEM4506', 'CHEM4512', 'CHEM4518', 'CHEM6041', 'CHEM7001', 'CHEM7119', 'CHEM7998', 'CHEN6703', 'CLIM1001', 'CLIM3001', 'CLIM6001', 'CODE1161', 'CODE1210', 'CODE2132', 'CODE2270', 'CODE3201', 'COMD5004', 'COMM0999', 'COMM1000', 'COMM1040', 'COMM1100', 'COMM1110', 'COMM1120', 'COMM1140', 'COMM1150', 'COMM1170', 'COMM1180', 'COMM1190', 'COMM1900', 'COMM1999', 'COMM2222', 'COMM2233', 'COMM2244', 'COMM2822', 'COMM3030', 'COMM3101', 'COMM3202', 'COMM3501', 'COMM3999', 'COMM5007', 'COMM5008', 'COMM5010', 'COMM5022', 'COMM5030', 'COMM5044', 'COMM5501', 'COMM5701', 'COMM5703', 'COMM5706', 'COMM5707', 'COMM5709', 'COMM5902', 'COMM8101', 'COMM8102', 'COMP1511', 'COMP1521', 'COMP1531', 'COMP1911', 'COMP2041', 'COMP2511', 'COMP2521', 'COMP3121', 'COMP3141', 'COMP3151', 'COMP3153', 'COMP3331', 'COMP3511', 'COMP3900', 'COMP3901', 'COMP3902', 'COMP4601', 'COMP4951', 'COMP4952', 'COMP4953', 'COMP4961', 'COMP4962', 'COMP4963', 'COMP6445', 'COMP6448', 'COMP6452', 'COMP6721', 'COMP6733', 'COMP6845', 'COMP9020', 'COMP9021', 'COMP9024', 'COMP9044', 'COMP9101', 'COMP9153', 'COMP9154', 'COMP9301', 'COMP9302', 'COMP9311', 'COMP9312', 'COMP9313', 'COMP9319', 'COMP9331', 'COMP9414', 'COMP9417', 'COMP9444', 'COMP9447', 'COMP9491', 'COMP9511', 'COMP9517', 'COMP9900', 'COMP9991', 'COMP9992', 'COMP9993', 'CONS0005', 'CONS0016', 'CONS0023', 'CRIM1011', 'CRIM2014', 'CRIM2020', 'CRIM2021', 'CRIM2031', 'CRIM3000', 'CRIM3012', 'CRIM3024', 'CRIM4001', 'CRIM4002', 'CRIM4003', 'CVEN2002', 'CVEN2101', 'CVEN2303', 'CVEN2701', 'CVEN3304', 'CVEN3401', 'CVEN3402', 'CVEN3502', 'CVEN4051', 'CVEN4104', 'CVEN4202', 'CVEN4301', 'CVEN4402', 'CVEN4507', 'CVEN4701', 'CVEN4703', 'CVEN4951', 'CVEN4952', 'CVEN4953', 'CVEN4961', 'CVEN4962', 'CVEN4963', 'CVEN9050', 'CVEN9407', 'CVEN9415', 'CVEN9451', 'CVEN9452', 'CVEN9453', 'CVEN9521', 'CVEN9531', 'CVEN9630', 'CVEN9702', 'CVEN9741', 'CVEN9822', 'CVEN9824', 'CVEN9826', 'CVEN9881', 'CVEN9885', 'CVEN9887', 'CVEN9888', 'DATA1001', 'DATA2299', 'DATA3199', 'DATA3299', 'DATA5002', 'DATA5011', 'DATA5012', 'DATA9001', 'DESN2000', 'DESN3000', 'ECON1101', 'ECON1102', 'ECON1107', 'ECON1203', 'ECON2101', 'ECON2103', 'ECON2126', 'ECON3106', 'ECON3107', 'ECON3116', 'ECON3202', 'ECON3210', 'ECON4106', 'ECON4150', 'ECON4151', 'ECON4160', 'ECON4161', 'ECON4170', 'ECON4171', 'ECON4350', 'ECON5101', 'ECON5106', 'ECON5111', 'ECON5210', 'ECON5306', 'ECON5316', 'ECON6202', 'ECON6350', 'ECON7002', 'ECON7202', 'ECON7350', 'EDST1108', 'EDST2044', 'EDST2094', 'EDST4501', 'EDST4502', 'EDST4503', 'EDST4505', 'EDST4506', 'EDST4507', 'EDST5129', 'EDST5138', 'EDST5306', 'EDST5308', 'EDST5321', 'EDST5325', 'EDST5436', 'EDST5440', 'EDST5443', 'EDST5448', 'EDST5457', 'EDST5608', 'EDST5805', 'EDST5807', 'EDST5888', 'EDST5889', 'ELEC2133', 'ELEC3105', 'ELEC3114', 'ELEC3117', 'ELEC3145', 'ELEC4613', 'ELEC4617', 'ELEC4622', 'ELEC4631', 'ELEC4951', 'ELEC4952', 'ELEC4953', 'ELEC9123', 'ELEC9451', 'ELEC9452', 'ELEC9453', 'ELEC9714', 'ELEC9716', 'ELEC9719', 'ELEC9721', 'ELEC9741', 'ELEC9771', 'ELEC9772', 'ENGG1200', 'ENGG1300', 'ENGG1400', 'ENGG1811', 'ENGG2400', 'ENGG2600', 'ENGG2997', 'ENGG3001', 'ENGG3060', 'ENGG3600', 'ENGG4600', 'ENGG4906', 'ENGG4907', 'ENGG4908', 'ENGG4998', 'ENGG4999', 'ENGG9744', 'FADA6700', 'FINS2101', 'FINS2615', 'FINS2618', 'FINS2622', 'FINS2624', 'FINS2643', 'FINS3202', 'FINS3303', 'FINS3616', 'FINS3625', 'FINS3626', 'FINS3630', 'FINS3637', 'FINS3639', 'FINS3641', 'FINS3645', 'FINS3647', 'FINS3648', 'FINS3650', 'FINS4774', 'FINS4796', 'FINS4797', 'FINS5510', 'FINS5512', 'FINS5513', 'FINS5514', 'FINS5516', 'FINS5517', 'FINS5526', 'FINS5530', 'FINS5531', 'FINS5536', 'FINS5537', 'FINS5539', 'FINS5542', 'FINS5545', 'FINS5547', 'FINS5548', 'FINS5568', 'FINS5574', 'FINS5581', 'FINS5595', 'FINS5596', 'FOOD1120', 'FOOD3030', 'FOOD3060', 'FOOD3801', 'FOOD4104', 'FOOD4403', 'FOOD8030', 'FOOD8403', 'FOOD8801', 'FOOD9103', 'FOOD9104', 'GENC3004', 'GENE1500', 'GENL0252', 'GENL1063', 'GENL2021', 'GENS0401', 'GENS1111', 'GENS1112', 'GENY0002', 'GEOS1701', 'GEOS2181', 'GEOS2711', 'GEOS2821', 'GEOS3281', 'GEOS3761', 'GMAT1110', 'GMAT2700', 'GMAT3700', 'GMAT4060', 'GMAT4220', 'GSOE9017', 'GSOE9220', 'GSOE9340', 'GSOE9360', 'GSOE9410', 'GSOE9820', 'GSOE9830', 'GSOE9997', 'HDAT9000', 'HDAT9100', 'HDAT9400', 'HDAT9500', 'HDAT9600', 'HDAT9700', 'HDAT9800', 'HDAT9900', 'HDAT9901', 'HDAT9902', 'HESC2452', 'HESC3501', 'HESC3504', 'HESC3581', 'HESC4551', 'HESC4561', 'HESC4611', 'HESC4622', 'HLTH1000', 'HUMS1006', 'HUMS2003', 'IDES1311', 'IDES1315', 'IDES2322', 'IDES2325', 'IDES3334', 'IDES4113', 'IEST5021', 'IEST5022', 'IEST6001', 'IEST7001', 'IEST8001', 'IEST8003', 'IEST8023', 'IEST8025', 'INFS1603', 'INFS2101', 'INFS2603', 'INFS2609', 'INFS3202', 'INFS3303', 'INFS3603', 'INFS3604', 'INFS3634', 'INFS3703', 'INFS3830', 'INFS4777', 'INFS4801', 'INFS4854', 'INFS4887', 'INFS4929', 'INFS5603', 'INFS5700', 'INFS5710', 'INFS5720', 'INFS5730', 'INFS5731', 'INFS5777', 'INFS5929', 'INFS5978', 'INST2003', 'INTA1002', 'INTA1003', 'INTA6000', 'INTA8000', 'JURD7121', 'JURD7122', 'JURD7130', 'JURD7141', 'JURD7161', 'JURD7222', 'JURD7224', 'JURD7236', 'JURD7251', 'JURD7270', 'JURD7271', 'JURD7283', 'JURD7284', 'JURD7302', 'JURD7325', 'JURD7336', 'JURD7376', 'JURD7381', 'JURD7383', 'JURD7387', 'JURD7414', 'JURD7421', 'JURD7428', 'JURD7433', 'JURD7434', 'JURD7440', 'JURD7441', 'JURD7446', 'JURD7470', 'JURD7481', 'JURD7493', 'JURD7496', 'JURD7514', 'JURD7555', 'JURD7564', 'JURD7565', 'JURD7567', 'JURD7593', 'JURD7619', 'JURD7623', 'JURD7627', 'JURD7632', 'JURD7645', 'JURD7695', 'JURD7777', 'JURD7784', 'JURD7795', 'JURD7823', 'LAND1351', 'LAND1482', 'LAND2101', 'LAND2122', 'LAND2142', 'LAND2202', 'LAND2272', 'LAND2312', 'LAND2412', 'LAND7102', 'LAND7202', 'LAND7272', 'LAND7313', 'LAND7315', 'LAWS1021', 'LAWS1022', 'LAWS1061', 'LAWS1091', 'LAWS1141', 'LAWS1214', 'LAWS1230', 'LAWS2270', 'LAWS2326', 'LAWS2351', 'LAWS2371', 'LAWS2383', 'LAWS2384', 'LAWS2820', 'LAWS3014', 'LAWS3023', 'LAWS3025', 'LAWS3046', 'LAWS3064', 'LAWS3065', 'LAWS3102', 'LAWS3167', 'LAWS3181', 'LAWS3183', 'LAWS3187', 'LAWS3221', 'LAWS3321', 'LAWS3326', 'LAWS3327', 'LAWS3332', 'LAWS3345', 'LAWS3352', 'LAWS3381', 'LAWS3384', 'LAWS3393', 'LAWS3396', 'LAWS3423', 'LAWS3434', 'LAWS3441', 'LAWS3555', 'LAWS3777', 'LAWS3901', 'LAWS8014', 'LAWS8028', 'LAWS8033', 'LAWS8040', 'LAWS8052', 'LAWS8070', 'LAWS8076', 'LAWS8095', 'LAWS8173', 'LAWS8197', 'LAWS8319', 'LAWS8345', 'LAWS8395', 'LAWS8422', 'LAWS8423', 'LAWS8993', 'LAWS9810', 'LING5024', 'LING5029', 'LING5032', 'LING5033', 'MANF3510', 'MANF4611', 'MANF9400', 'MANF9472', 'MARK2012', 'MARK2051', 'MARK2052', 'MARK2053', 'MARK2085', 'MARK2101', 'MARK3054', 'MARK3081', 'MARK3082', 'MARK3085', 'MARK3202', 'MARK3303', 'MARK4301', 'MARK4302', 'MARK5700', 'MARK5800', 'MARK5810', 'MARK5811', 'MARK5814', 'MARK5822', 'MARK5826', 'MARK5828', 'MARK5829', 'MATH1041', 'MATH1081', 'MATH1131', 'MATH1231', 'MATH1241', 'MATH1251', 'MATH2018', 'MATH2099', 'MATH2121', 'MATH2221', 'MATH2399', 'MATH2400', 'MATH2501', 'MATH2601', 'MATH2801', 'MATH2859', 'MATH2901', 'MATH3000', 'MATH3001', 'MATH3002', 'MATH3041', 'MATH3101', 'MATH3311', 'MATH3399', 'MATH3611', 'MATH3821', 'MATH3831', 'MATH3841', 'MATH4001', 'MATH5025', 'MATH5207', 'MATH5295', 'MATH5305', 'MATH5335', 'MATH5605', 'MATH5665', 'MATH5705', 'MATH5806', 'MATH5845', 'MATH5885', 'MATH5925', 'MATH6781', 'MATS1110', 'MATS2004', 'MATS2005', 'MATS2008', 'MATS3004', 'MATS3006', 'MATS3007', 'MATS3199', 'MATS3299', 'MATS4001', 'MATS4004', 'MATS4100', 'MATS4503', 'MATS4505', 'MATS6004', 'MATS6006', 'MATS6101', 'MATS6109', 'MATS6110', 'MATS6111', 'MATS6113', 'MATS6114', 'MBAE7501', 'MBAE7502', 'MBAE7503', 'MBAE7504', 'MDIA1002', 'MDIA1092', 'MDIA2000', 'MDIA2003', 'MDIA2011', 'MDIA2012', 'MDIA2013', 'MDIA2091', 'MDIA2092', 'MDIA2096', 'MDIA3000', 'MDIA3003', 'MDIA3006', 'MDIA3008', 'MDIA3093', 'MDIA3096', 'MDIA4000', 'MDIA4001', 'MDIA5000', 'MDIA5004', 'MDIA5008', 'MDIA5009', 'MDIA5011', 'MDIA5024', 'MDIA5029', 'MDIA5032', 'MDIA5100', 'MECH3610', 'MECH4100', 'MECH9325', 'MECH9720', 'MERE2001', 'MERE2002', 'MERE2810', 'MERE4951', 'MERE4952', 'MERE4953', 'MERE5001', 'MERE5002', 'MERE6001', 'MERE6002', 'MERE9451', 'MERE9452', 'MERE9453', 'MFAC4001', 'MFIN6201', 'MFIN6205', 'MFIN6210', 'MFIN6214', 'MGMT2002', 'MGMT2705', 'MGMT2718', 'MGMT2725', 'MGMT3101', 'MGMT3102', 'MGMT3721', 'MGMT5050', 'MGMT5602', 'MGMT5610', 'MGMT5613', 'MGMT5710', 'MGMT5800', 'MGMT5803', 'MGMT5904', 'MGMT5907', 'MINE3230', 'MINE3910', 'MINE4710', 'MINE5060', 'MINE8120', 'MINE8130', 'MINE8140', 'MINE8445', 'MINE8680', 'MINE8910', 'MINE8930', 'MINE9100', 'MINE9901', 'MINE9902', 'MINE9903', 'MMAN1130', 'MMAN2300', 'MMAN3200', 'MMAN4010', 'MMAN4020', 'MMAN4200', 'MMAN4951', 'MMAN4952', 'MMAN4953', 'MMAN9001', 'MMAN9002', 'MMAN9451', 'MMAN9452', 'MMAN9453', 'MNGT5211', 'MNGT5234', 'MNGT5272', 'MNGT5282', 'MNGT5544', 'MNGT5594', 'MNGT5595', 'MODL5103', 'MODL5105', 'MODL5108', 'MODL5111', 'MODL5113', 'MSCI1001', 'MSCI3001', 'MSCI5004', 'MTRN3100', 'MTRN4230', 'MUSC1604', 'MUSC1802', 'MUSC1805', 'MUSC1808', 'MUSC2603', 'MUSC2703', 'MUSC2706', 'MUSC3705', 'MUSC3706', 'MUSC3801', 'MUSC3805', 'MUSC3807', 'MUSC3808', 'MUSC4009', 'MUSC4010', 'MUSC4013', 'MUSC4014', 'MUSC4015', 'MUSC4016', 'MUSC4102', 'MUSC4705', 'NANO4012', 'NEUR2201', 'NEUR3101', 'NEUR4421', 'NEUR4441', 'NEUR4442', 'NEUR4443', 'OPTM2233', 'OPTM3133', 'OPTM3205', 'OPTM6411', 'OPTM6412', 'OPTM6421', 'OPTM7006', 'OPTM7208', 'OPTM7218', 'OPTM7302', 'OPTM7612', 'OPTM8513', 'OPTM8514', 'OPTM8521', 'PATH3206', 'PHAR3202', 'PHAR3306', 'PHCM1004', 'PHCM2002', 'PHCM2006', 'PHCM2009', 'PHCM3001', 'PHCM3003', 'PHCM3007', 'PHCM3008', 'PHCM9010', 'PHCM9082', 'PHCM9100', 'PHCM9103', 'PHCM9120', 'PHCM9144', 'PHCM9145', 'PHCM9148', 'PHCM9150', 'PHCM9151', 'PHCM9152', 'PHCM9381', 'PHCM9443', 'PHCM9612', 'PHCM9615', 'PHCM9662', 'PHCM9701', 'PHCM9761', 'PHCM9784', 'PHCM9785', 'PHCM9794', 'PHCM9795', 'PHRM1021', 'PHSL2201', 'PHSL2221', 'PHSL2502', 'PHSL3211', 'PHTN4662', 'PHYS1110', 'PHYS1121', 'PHYS1131', 'PHYS1160', 'PHYS1200', 'PHYS1211', 'PHYS1241', 'PHYS2113', 'PHYS2114', 'PHYS3111', 'PHYS3118', 'PHYS3199', 'PHYS3299', 'PHYS4143', 'PHYS4145', 'PHYS4200', 'PHYS6118', 'PHYS6143', 'PHYS6183', 'PHYS9130', 'PLAN1002', 'PLAN1007', 'PLAN2003', 'PLAN2004', 'PLAN2006', 'PLAN3008', 'PLAN3009', 'PLAN4004', 'PLAN7140', 'PLAN7141', 'PLAN7145', 'PLTX1300', 'PLTX2020', 'POLS5100', 'POLS5121', 'POLS5125', 'POLS5127', 'PSCY9911', 'PSCY9917', 'PSYC1001', 'PSYC1011', 'PSYC1022', 'PSYC1023', 'PSYC1024', 'PSYC1062', 'PSYC2081', 'PSYC3051', 'PSYC3199', 'PSYC3221', 'PSYC3299', 'PSYC3301', 'PSYC3341', 'PSYC3361', 'PSYC4073', 'PSYC4103', 'PSYC7204', 'PSYC7220', 'PSYC7221', 'PSYC7224', 'PSYC7230', 'PSYC7231', 'PSYC7232', 'PSYC7234', 'PSYC7235', 'PSYC7410', 'PSYC7421', 'PSYC7425', 'PSYC7427', 'PTRL2020', 'PTRL3001', 'PTRL3030', 'PTRL4017', 'PTRL4021', 'PTRL5007', 'PTRL5011', 'PTRL5016', 'PTRL5021', 'PTRL5022', 'PTRL5107', 'PTRL6007', 'PTRL6016', 'PTRL6021', 'PTRL6029', 'PTRL6107', 'PTRL9100', 'REGZ9000', 'REGZ9072', 'REGZ9076', 'REGZ9078', 'REST0005', 'REST0006', 'RISK3003', 'RISK5003', 'SCIF1004', 'SCIF2041', 'SCIF3041', 'SCIF3199', 'SENG3991', 'SENG3992', 'SENG3993', 'SENG3994', 'SOCF5104', 'SOCF5109', 'SOCF5110', 'SOCW1001', 'SOCW3009', 'SOCW3013', 'SOCW4013', 'SOCW4017', 'SOCW7851', 'SOLA1070', 'SOLA2051', 'SOLA3010', 'SOLA3020', 'SOLA4012', 'SOLA4951', 'SOLA4952', 'SOLA4953', 'SOLA5057', 'SOLA9103', 'SOLA9451', 'SOLA9452', 'SOLA9453', 'SOMS1912', 'SOMS3001', 'SOMS3199', 'SOMS3232', 'SOMS3299', 'SOMS4884', 'SOMS4888', 'SOSS1000', 'SOSS2002', 'SOSS2005', 'SOSS3006', 'SOSS3007', 'SRAP4051', 'SRAP4052', 'SRAP4053', 'SRAP5004', 'SRAP5021', 'SRAP5107', 'SUSD0002', 'SUSD0015', 'SWCH9003', 'SWCH9007', 'SWCH9009', 'SWCH9012', 'SWCH9015', 'SWCH9019', 'SWCH9020', 'SWCH9021', 'SWCH9032', 'TABL2710', 'TABL2751', 'TABL2756', 'TABL3033', 'TABL4601', 'TABL4722', 'TABL5503', 'TABL5511', 'TABL5543', 'TABL5550', 'TABL5551', 'TABL5580', 'TABL5582', 'TABL5585', 'TABL5805', 'TABL5933', 'TELE4642', 'TELE4652', 'TELE9752', 'TELE9781', 'TELE9782', 'UDES0009', 'VISN1111', 'VISN2111', 'VISN4016', 'VISN5521', 'VISN5522', 'VISN5523']\n"
          ]
        }
      ]
    },
    {
      "cell_type": "code",
      "source": [
        "print(course_codes)"
      ],
      "metadata": {
        "colab": {
          "base_uri": "https://localhost:8080/"
        },
        "id": "TFiuscXA0bQf",
        "outputId": "f449d2aa-54b8-4b3e-af6c-97af31481d95"
      },
      "execution_count": null,
      "outputs": [
        {
          "output_type": "stream",
          "name": "stdout",
          "text": [
            "{'AVIA5006', 'FINS5512', 'MERE5001', 'LAWS3381', 'CHEM6041', 'ARTS2278', 'AVIA2401', 'INFS5777', 'COMP3511', 'EDST2094', 'AVIA4003', 'COMM3030', 'ENGG9744', 'BIOC3671', 'DATA3199', 'MNGT5282', 'ACCT3995', 'CHEM2011', 'ACCT5925', 'CRIM2014', 'JURD7336', 'MSCI1001', 'CHEM4501', 'ARTS2033', 'ARTS4613', 'COMP3151', 'SRAP4052', 'INFS1603', 'PLAN7145', 'SENG3992', 'ARTS3048', 'MATH1251', 'PHCM3001', 'PHYS4145', 'MDIA3093', 'MMAN3200', 'CVEN3502', 'PHYS4143', 'MGMT3101', 'MUSC3801', 'GSOE9340', 'BIOC3111', 'COMP3153', 'SOLA1070', 'MDIA2013', 'ECON6350', 'ARCH7254', 'MATS4503', 'PHRM1021', 'OPTM7302', 'ACCT3672', 'CHEM1821', 'ACTL5301', 'ARTS3821', 'LAWS1021', 'SOLA5057', 'GENC3004', 'ECON1101', 'HESC4561', 'CVEN9521', 'MATH5925', 'ARTS2248', 'MATS4004', 'CVEN4951', 'HDAT9100', 'MUSC4705', 'MDIA5024', 'BIOM9660', 'ARTS1210', 'ARTS2754', 'EDST5888', 'MATH3000', 'COMP4961', 'MERE4951', 'LAWS2383', 'ARTS4840', 'PLAN4004', 'CVEN4963', 'COMP9993', 'MERE9451', 'BIOM9332', 'REST0005', 'BEES2741', 'MATH5806', 'MBAE7501', 'ARTS2693', 'BEIL0008', 'INFS4929', 'MATH5335', 'DATA5012', 'MUSC4102', 'PHCM3007', 'JURD7441', 'OPTM3133', 'MARK5822', 'CRIM2021', 'COMM5008', 'INFS5730', 'GENL1063', 'OPTM7006', 'VISN2111', 'LAND7313', 'ARTS1782', 'LAWS3321', 'NANO4012', 'MGMT5710', 'CHEM7001', 'FOOD8403', 'LAWS3345', 'ECON3107', 'ENGG1811', 'FOOD4104', 'ACTL3301', 'MDIA2096', 'ACTL4011', 'ARTS2375', 'ARTS3290', 'FINS3637', 'LAWS3326', 'ACTL6104', 'AVIA3299', 'PHCM9794', 'MMAN9453', 'DATA9001', 'BIOM4952', 'HESC3504', 'ARTS4904', 'PHCM3003', 'BLDG1014', 'LAWS3332', 'ECON3210', 'ARTS1064', 'ARTS4926', 'PHSL2502', 'ECON5106', 'CODE1161', 'MGMT2002', 'CEIC6712', 'PTRL5021', 'COMP3331', 'FINS5574', 'MNGT5211', 'LAND7315', 'ACTL2102', 'ELEC9772', 'FINS5517', 'COMP3900', 'ELEC9719', 'NEUR4442', 'GMAT4060', 'MERE6002', 'SCIF3199', 'SENG3991', 'LAWS3046', 'BABS2202', 'CDEV2000', 'SOLA3010', 'AVIA5035', 'ARTS4617', 'ARTS4621', 'JURD7251', 'LAWS1022', 'MINE8120', 'SWCH9020', 'INFS3703', 'BABS5029', 'CVEN9451', 'MDIA3006', 'AVIA4004', 'ARTS3132', 'MARK2101', 'LAND7202', 'COMM1100', 'COMM0999', 'JURD7434', 'JURD7446', 'MERE2002', 'FINS3616', 'AVIA5004', 'EDST5138', 'NEUR4421', 'ACCT5919', 'EDST4506', 'HDAT9900', 'INST2003', 'ARCH7112', 'GENY0002', 'LAWS8173', 'MINE8130', 'INFS3603', 'TABL5551', 'INFS4777', 'PSYC7231', 'PHCM9443', 'REGZ9076', 'FINS5530', 'PHCM9103', 'CRIM2031', 'MMAN2300', 'COMM2822', 'BIOS6723', 'ENGG4999', 'BABS4516', 'LAWS3181', 'ANAT2521', 'JURD7270', 'ARTS4268', 'ARTS3054', 'ACTL3142', 'MANF4611', 'COMP9153', 'ELEC9451', 'MUSC2703', 'INFS3830', 'MINE9903', 'COMM5022', 'FINS5568', 'ARTS3755', 'MDIA5032', 'LAWS2371', 'AGSM9271', 'MATH3831', 'PHCM9010', 'ELEC2133', 'BABS5019', 'LAWS8070', 'ARTS3818', 'MMAN4953', 'MDIA5008', 'SUSD0015', 'SOMS1912', 'CVEN9531', 'CVEN4703', 'ECON1107', 'HESC4622', 'GENS1112', 'JURD7224', 'COMP6452', 'JURD7627', 'COMM1999', 'ARTS4819', 'MDIA1002', 'CRIM4001', 'LAWS2326', 'PHCM9785', 'TABL5543', 'ECON2103', 'MDIA2003', 'AGSM9132', 'COMP9313', 'SOCW7851', 'EDST5443', 'ARTS4612', 'INFS5731', 'ARTS4834', 'PSYC7230', 'DATA3299', 'ARTS4832', 'LING5033', 'PHCM9100', 'LAWS3023', 'PHYS1241', 'ARTS4811', 'ARTS1450', 'MODL5113', 'SOCW4013', 'ARTS1271', 'JURD7514', 'ACCT5930', 'SOSS2002', 'ARCH1361', 'JURD7565', 'COMP6845', 'PHYS1121', 'LAWS1061', 'MTRN3100', 'ACTL3143', 'EDST5308', 'BLDG4020', 'PHCM9612', 'ARTS2845', 'CVEN4202', 'PTRL3001', 'JURD7376', 'CVEN2303', 'LAWS8014', 'ARTS3023', 'DESN2000', 'ECON4161', 'COMP9311', 'MATH1131', 'ARTS4921', 'AVIA3410', 'MARK2085', 'TELE4642', 'PHYS4200', 'ARTS4700', 'ELEC4631', 'MERE9453', 'MUSC2603', 'JURD7302', 'TABL2710', 'MATH2400', 'CHEM1061', 'BENV2112', 'FINS5537', 'OPTM7218', 'LAWS3014', 'SOLA3020', 'PSYC1022', 'GSOE9820', 'ARTS2662', 'FOOD8030', 'MINE3230', 'INTA8000', 'SCIF1004', 'MNGT5544', 'TABL2751', 'ARTS4925', 'JURD7414', 'PATH3206', 'PSYC3051', 'CVEN4507', 'ARCH7253', 'CHEM4503', 'CODE3201', 'FINS3303', 'HESC3581', 'ARTS2062', 'BIOM1010', 'MATS3299', 'MMAN4951', 'JURD7823', 'ECON1102', 'SRAP4053', 'MDIA4000', 'BLDG1023', 'HESC2452', 'ARTS4914', 'JURD7777', 'ARTS4831', 'COMP9154', 'LAWS3025', 'ARTS4713', 'ARTS2900', 'MUSC1802', 'PSYC4103', 'AGSM6143', 'MODL5105', 'LAND1482', 'ENGG1400', 'COMM1120', 'MATS2008', 'BIOM9420', 'INFS5603', 'COMP9900', 'JURD7122', 'ECON5316', 'CDEV3300', 'MINE9902', 'MDIA5100', 'MARK5700', 'ECON7202', 'PHAR3202', 'GEOS2181', 'LAWS8076', 'MFIN6210', 'CONS0005', 'ARTS1360', 'ARTS4608', 'FOOD4403', 'BLDG4022', 'GSOE9997', 'ECON4106', 'JURD7381', 'ELEC3145', 'COMM1150', 'ARTS1032', 'MNGT5234', 'ARCH7213', 'ARTS3810', 'SOLA9451', 'CVEN9630', 'PTRL6007', 'CEIC8204', 'ARTS3373', 'ARTS4929', 'PHSL2221', 'CRIM3024', 'MATH5845', 'RISK5003', 'ANAT1451', 'FINS5516', 'PHAR3306', 'ARTS4712', 'BEES3041', 'LAWS3555', 'EDST4501', 'JURD7496', 'SOLA4012', 'TABL5503', 'VISN5523', 'SWCH9007', 'AVIA3111', 'CVEN4961', 'CEIC9005', 'IEST8025', 'PSYC7204', 'ARTS4826', 'MECH3610', 'MATS4100', 'ELEC9741', 'MERE2001', 'MDIA2011', 'SOMS4884', 'BLDG1021', 'MATH1231', 'PHYS2114', 'COMM2233', 'MGMT5050', 'ARTS3638', 'IEST5021', 'PLAN3008', 'FINS2622', 'JURD7121', 'GENL0252', 'MATH5605', 'MINE8445', 'CVEN9415', 'MATS3007', 'COMP4952', 'ARTS4901', 'ARTS2633', 'BIOM4951', 'ENGG1300', 'LAND7102', 'COMM1190', 'SOLA9103', 'JURD7421', 'ARTS1452', 'EDST5807', 'GSOE9410', 'CVEN9452', 'ARTS4202', 'POLS5100', 'FINS3626', 'IDES2322', 'MUSC3808', 'MINE3910', 'PSYC1024', 'JURD7440', 'BIOM9914', 'PLAN2006', 'MATH3041', 'MDIA5000', 'BEES4517', 'MATS2004', 'AVIA3910', 'LAND2312', 'ARTS4927', 'PHYS1211', 'MDIA3000', 'ELEC9123', 'CLIM3001', 'JURD7623', 'PTRL5022', 'BABS1111', 'HESC4551', 'FINS3641', 'JURD7695', 'COMP1911', 'MDIA4001', 'INFS2609', 'LING5032', 'MDIA2092', 'ECON4171', 'INFS3634', 'ARTS2126', 'BIOS3061', 'COMM5703', 'BABS3301', 'PSYC3361', 'ARTS4604', 'ENGG4906', 'ARTS3872', 'AGSM6234', 'ANAT2111', 'MGMT5613', 'ECON6202', 'JURD7222', 'MATH5705', 'ELEC9452', 'PLAN2004', 'BLDG2012', 'MINE8930', 'PTRL6107', 'LAND2412', 'VISN5521', 'BABS3199', 'ARTS4714', 'CEIC2002', 'BIOS3011', 'AVIA2114', 'BLDG3013', 'PSYC1001', 'CRIM2020', 'BEES9011', 'MODL5108', 'MDIA3096', 'PHCM9144', 'COMP9447', 'AGSM6321', 'ARTS2244', 'MARK3082', 'NEUR4443', 'LAWS8028', 'BENV4000', 'FINS2643', 'PTRL6016', 'COMP4962', 'BINF3010', 'SOSS3007', 'ARTS3220', 'GENE1500', 'ARTS4905', 'ARCH7252', 'DESN3000', 'PHCM1004', 'MERE5002', 'LAWS3327', 'MUSC4010', 'GEOS1701', 'HDAT9000', 'SOCF5104', 'CRIM3012', 'CVEN9407', 'SOMS3232', 'PHCM9381', 'DATA1001', 'ARTS3756', 'JURD7161', 'OPTM2233', 'ARTS3453', 'AVIA3112', 'MUSC4015', 'JURD7593', 'MERE9452', 'ARTS1540', 'CONS0023', 'PSYC7425', 'MFAC4001', 'INFS5710', 'ARTS3820', 'ARTS2481', 'ARCH7202', 'FADA6700', 'BABS3081', 'ELEC4953', 'BABS7180', 'CDEV6100', 'ELEC4951', 'ENGG2997', 'SRAP5021', 'COMM1180', 'ECON3202', 'BENV7020', 'ARTS4912', 'MINE9100', 'HDAT9700', 'FOOD8801', 'ECON4151', 'MBAE7503', 'PSYC1011', 'ACCT5910', 'PHYS6118', 'ARTS3576', 'ARTS3026', 'MATH2601', 'OPTM7208', 'SWCH9032', 'OPTM8513', 'ARTS4812', 'SWCH9009', 'MATS3006', 'ECON7350', 'LAWS2270', 'CVEN2101', 'MATH3311', 'ARTS4810', 'ARCH7220', 'CDEV3500', 'COMP6721', 'MATH2901', 'CDEV3000', 'CEIC4000', 'MDIA2012', 'AVIA2116', 'HDAT9400', 'ARTS1121', 'MGMT5907', 'GEOS3281', 'MARK5829', 'SWCH9015', 'LAND2142', 'PLTX1300', 'MNGT5272', 'GENS1111', 'CODE2270', 'NEUR2201', 'FINS5514', 'ARTS3631', 'FINS5513', 'REGZ9072', 'FINS5547', 'MANF3510', 'ANAT2241', 'MATS6006', 'INFS4887', 'SOLA4951', 'ARTS3062', 'REGZ9000', 'OPTM8514', 'HDAT9800', 'ACTL5200', 'FINS3650', 'AVIA3199', 'TABL5582', 'INFS2101', 'MDIA2000', 'ARTS3123', 'CHEM3199', 'ARTS3270', 'JURD7567', 'LAWS8052', 'MATS6114', 'AGSM9137', 'CVEN4301', 'COMM1000', 'ELEC4613', 'MARK5814', 'DATA5011', 'CVEN9702', 'ARTS4706', 'COMM1900', 'CDEV3013', 'COMM1110', 'AVIG5912', 'CHEM3031', 'HUMS1006', 'MATS6109', 'TELE9782', 'CEIC4951', 'ACTL6105', 'ARTS3047', 'BABS3031', 'PHCM2006', 'AGSM9274', 'FINS5536', 'GSOE9017', 'COMP1521', 'EDST5889', 'COMM1140', 'MFIN6214', 'FINS3645', 'ARTS4920', 'COMP4953', 'MINE8140', 'LAWS2351', 'COMP6733', 'BIOM4953', 'FINS3647', 'PHYS6143', 'IEST5022', 'ARTS4820', 'EDST4502', 'SOMS3001', 'SOLA9453', 'ARTS4928', 'PLAN7141', 'ARCH1161', 'PSYC7427', 'LAWS8395', 'TELE9781', 'FINS3639', 'PSYC3221', 'COMM2222', 'TABL5550', 'ARTS1571', 'ACTL5110', 'CVEN2701', 'MGMT2725', 'CODE1210', 'CVEN4952', 'ARCH1222', 'HDAT9600', 'ACCT5996', 'MATH1241', 'MATH3001', 'ARTS3015', 'BABS1202', 'PHCM9151', 'MERE2810', 'GSOE9830', 'CVEN9824', 'ACCT5952', 'ELEC3114', 'JURD7795', 'COMP6445', 'BIOS2500', 'CVEN9888', 'CHEM4518', 'GEOS2711', 'INFS5929', 'ARTS3241', 'FOOD3060', 'HDAT9902', 'MGMT5904', 'MDIA5029', 'ACCT4852', 'PHCM9120', 'MINE8680', 'MATS4001', 'EDST5129', 'CHEM1011', 'EDST1108', 'PHYS1110', 'COMP9511', 'PHYS3199', 'PTRL6021', 'AVIA5009', 'COMP3141', 'ACCT3303', 'LAND1351', 'ARTS2852', 'ARTS2815', 'PTRL5016', 'LAWS1141', 'ARTS4916', 'ELEC4617', 'MATH1081', 'SWCH9012', 'ARTS4616', 'FINS5539', 'JURD7325', 'ARTS4814', 'AGSM6131', 'MMAN9451', 'PHCM3008', 'GMAT3700', 'FINS5596', 'CHEM2999', 'PHTN4662', 'NEUR3101', 'MINE8910', 'SOSS2005', 'EDST5448', 'CHEM4502', 'MNGT5595', 'ACTL2101', 'LAWS3441', 'GENL2021', 'OPTM6421', 'REGZ9078', 'MFIN6205', 'ARTS4835', 'MATH3002', 'PSYC3299', 'OPTM6412', 'ELEC3117', 'PTRL9100', 'IEST7001', 'LAWS9810', 'LAWS8319', 'PSYC7234', 'ARTS2457', 'JURD7493', 'ELEC9716', 'AERO3110', 'ENGG4907', 'MATH2221', 'COMP9024', 'BENV7811', 'ELEC9714', 'COMP9021', 'MFIN6201', 'AGSM9101', 'JURD7470', 'TABL4601', 'COMP4951', 'CRIM1011', 'MMAN4010', 'MATS3004', 'COMP3121', 'HESC3501', 'MECH4100', 'LAWS3384', 'INFS4854', 'COMD5004', 'MARK2051', 'COMM1040', 'PHCM9795', 'PHYS2113', 'MARK4302', 'COMM5007', 'PSCY9917', 'COMP9302', 'CVEN4953', 'HESC4611', 'COMM3202', 'LAWS3187', 'FINS2101', 'LAND2101', 'LAWS1214', 'INFS3202', 'MINE9901', 'CVEN9887', 'VISN1111', 'ACCT5942', 'CRIM4003', 'MUSC1805', 'ACCT5949', 'OPTM8521', 'ECON4160', 'PHCM9148', 'ARTS4620', 'CVEN9050', 'PHYS1131', 'PHCM2009', 'MMAN4020', 'BIOC2101', 'MATH2099', 'SOMS3299', 'SOLA2051', 'JURD7141', 'SOCW3009', 'ARTS4702', 'ARTS3330', 'ECON3106', 'MUSC2706', 'GEOS3761', 'MARK5800', 'ARTS2362', 'ARTS2123', 'ARTS4704', 'MDIA3008', 'MATH2501', 'MGMT2705', 'CEIC6789', 'ARTS4818', 'SOCF5109', 'LAWS8423', 'ARTS4822', 'CHEM7119', 'CEIC3006', 'INFS3604', 'LAWS8345', 'MGMT5610', 'COMP9517', 'EDST5321', 'PSYC7224', 'PTRL4021', 'MUSC4013', 'MUSC4009', 'COMM5902', 'ARTS4900', 'ACCT4797', 'ARTS3639', 'BENV1012', 'MATH3611', 'PHCM9615', 'CVEN9881', 'ARTS2819', 'ARTS1480', 'PHCM9150', 'MERE4952', 'MMAN4952', 'ARTS2908', 'ENGG2600', 'ACTL4002', 'PHCM9152', 'COMP9319', 'BEES0006', 'MARK2052', 'COMM5707', 'COMM3101', 'MARK4301', 'JURD7564', 'BIOS9231', 'MDIA5009', 'PSYC7220', 'DATA2299', 'BLDG3021', 'ARTS3690', 'ARTS3886', 'SENG3993', 'MATS6004', 'COMP9044', 'CDEV3200', 'SOMS3199', 'ARTS4823', 'BIOM9021', 'ENGG3060', 'JURD7555', 'TABL5511', 'LAWS3102', 'MATS6110', 'MGMT2718', 'COMP9331', 'MINE4710', 'MGMT5803', 'ACCT5995', 'SRAP5004', 'JURD7271', 'HLTH1000', 'EDST5457', 'AVIA5003', 'ARTS2692', 'HUMS2003', 'ARTS4816', 'FOOD1120', 'MATH5025', 'ARTS3463', 'MATH3841', 'AGSM9153', 'MATS6111', 'CVEN4962', 'ARTS4918', 'PHCM9784', 'ECON2126', 'SOCW4017', 'PLTX2020', 'BABS5039', 'CDEV3001', 'EDST5440', 'JURD7481', 'ARTS4605', 'AVIA1902', 'EDST5805', 'LAWS3167', 'LAWS8993', 'FINS4774', 'MANF9400', 'ARCH1162', 'ACTL5004', 'CVEN4104', 'INTA1003', 'ACCT5943', 'ENGG1200', 'ACCT3610', 'ARTS2064', 'CVEN3304', 'SOSS3006', 'LAWS3183', 'MUSC4014', 'LAWS3352', 'MECH9720', 'FINS4796', 'POLS5127', 'ACTL5111', 'MBAE7504', 'FINS3630', 'COMM5701', 'MARK3303', 'SOCW1001', 'SCIF2041', 'LING5029', 'AGSM6275', 'COMM3999', 'AVIA3710', 'BENV1015', 'ARTS1660', 'CHEN6703', 'SOLA4953', 'TABL5933', 'SENG3994', 'CVEN9741', 'IEST8001', 'PTRL2020', 'BINF9010', 'LAWS3423', 'LAWS1091', 'PSYC7235', 'FINS2618', 'EDST5436', 'PHYS3118', 'EDST5608', 'LAWS3434', 'ARCH1261', 'COMP9301', 'PTRL6029', 'IDES2325', 'MATS3199', 'PSYC3199', 'COMM5030', 'ARTS4701', 'CEIC9951', 'PSYC1023', 'LAWS1230', 'MDIA1092', 'LAND7272', 'COMP1531', 'COMP4963', 'PHYS3299', 'LAWS8095', 'MATH5305', 'MUSC4016', 'ELEC4622', 'PTRL5007', 'JURD7284', 'TELE4652', 'COMP3901', 'PHCM2002', 'PSYC7232', 'FINS5545', 'COMP9414', 'FINS3625', 'ARTS2877', 'TABL3033', 'LAWS2820', 'ECON2101', 'ACCT4897', 'MATH2859', 'FINS5531', 'ARCH1302', 'TABL5805', 'MECH9325', 'ARTS4902', 'MARK3085', 'ELEC3105', 'RISK3003', 'LAND2122', 'MGMT3721', 'CRIM4002', 'SWCH9019', 'MINE5060', 'AGSM9150', 'PHYS1160', 'LAWS3396', 'COMM5010', 'ACTL1101', 'INFS5720', 'ECON4150', 'LAWS8040', 'SWCH9003', 'MARK5826', 'ARCH7304', 'ECON5210', 'ARTS3377', 'COMP2521', 'IEST8003', 'MATH3821', 'GMAT1110', 'MATH2018', 'MARK3202', 'BEES3199', 'COMM5044', 'MATH5665', 'FINS5510', 'CHEM3998', 'ARTS4922', 'COMP9991', 'PLAN2003', 'IDES1315', 'ECON5101', 'PLAN1007', 'PLAN7140', 'FOOD3030', 'MUSC3807', 'GSOE9220', 'SRAP4051', 'MGMT5602', 'ENGG3600', 'MATS6113', 'CDEV3100', 'ENGG4600', 'COMP6448', 'COMM1170', 'ARCH7251', 'CODE2132', 'LAWS8197', 'ARTS4830', 'BABS1112', 'BABS3631', 'MATS6101', 'ARTS4828', 'ARTS2031', 'EDST5325', 'LAWS8422', 'MMAN9002', 'COMM8102', 'COMM5706', 'JURD7130', 'UDES0009', 'JURD7645', 'SOMS4888', 'FINS5542', 'ECON3116', 'INFS4801', 'ACCT5967', 'TELE9752', 'FINS5595', 'MODL5111', 'ACCT5998', 'TABL5580', 'ARTS2785', 'FOOD9103', 'ARTS4917', 'CVEN2002', 'JURD7632', 'HDAT9500', 'ARTS4838', 'INTA1002', 'PLAN3009', 'PHYS6183', 'CDEV3012', 'MERE6001', 'ARTS4815', 'ECON5111', 'LAWS3393', 'MATH2399', 'IDES1311', 'FINS5581', 'POLS5121', 'MMAN9452', 'EDST4503', 'SOLA9452', 'MANF9472', 'MGMT3102', 'JURD7784', 'ARTS4827', 'NEUR4441', 'COMP9992', 'MARK2012', 'HDAT9901', 'SOLA4952', 'MBAE7502', 'MUSC3706', 'PTRL3030', 'MATH6781', 'MUSC3805', 'JURD7433', 'SWCH9021', 'PSCY9911', 'ACTL3202', 'IDES4113', 'FINS3202', 'LAWS3065', 'PSYC3341', 'PSYC7421', 'ARTS1846', 'LAWS8033', 'ACCT2542', 'ARTS4836', 'PSYC3301', 'BEES3299', 'COMM5501', 'MUSC1604', 'MARK5828', 'MGMT5800', 'ARTS3822', 'AVIA5024', 'ARTS4924', 'TABL5585', 'LAWS3901', 'CHEM4512', 'PTRL5107', 'CHEM7998', 'MNGT5594', 'CEIC4008', 'ENGG2400', 'SOCW3013', 'AVIA3113', 'MARK5810', 'ECON7002', 'JURD7619', 'INFS2603', 'MUSC1808', 'OPTM3205', 'JURD7283', 'ARTS4705', 'PHCM9662', 'MUSC3705', 'ARTS4913', 'AGSM9155', 'COMP9491', 'IEST8023', 'MMAN1130', 'CEIC4954', 'MATH2801', 'ELEC9771', 'SRAP5107', 'IDES3334', 'CHEM1041', 'PHYS9130', 'ARTS2698', 'SUSD0002', 'BABS3151', 'MARK3054', 'ARTS1510', 'CVEN4402', 'PHCM9145', 'MERE4953', 'PHSL2201', 'ENGG4998', 'BABS8010', 'MARK3081', 'JURD7383', 'ATSI3005', 'JURD7387', 'CEIC4953', 'AGSM9154', 'BENV7728', 'GENS0401', 'ACCT5961', 'PHYS1200', 'IEST6001', 'MSCI3001', 'ACTL3303', 'ELEC4952', 'JURD7428', 'CVEN4051', 'MATH3399', 'ACTL4003', 'CEIC2005', 'BIOC3271', 'REST0006', 'BLDG2011', 'CRIM3000', 'ARTS3451', 'FINS5526', 'COMP9101', 'MDIA2091', 'DATA5002', 'FINS3648', 'MDIA5004', 'MATH4001', 'ACCT3202', 'CHEM3299', 'INFS5978', 'ARTS3633', 'MATS4505', 'ANAT1521', 'MATH5207', 'SOSS1000', 'FINS2624', 'SOCF5110', 'CDEV6000', 'ARTS1240', 'COMP2041', 'COMP1511', 'BIOM9020', 'ECON4350', 'ENGG4908', 'FOOD3801', 'AVIA2701', 'ENGG3001', 'INFS3303', 'CVEN3402', 'AVIA5008', 'EDST4507', 'FINS4797', 'ARTS2822', 'GSOE9360', 'INTA6000', 'MTRN4230', 'MATS2005', 'COMM8101', 'BEES9041', 'PHCM9701', 'EDST2044', 'COMP4601', 'BIOS2061', 'CEIC9952', 'PHCM9082', 'MDIA3003', 'ELEC9721', 'CEIC8104', 'BENV2942', 'COMP9444', 'INFS5700', 'COMP9417', 'CONS0016', 'MARK2053', 'ARTS4906', 'AVIA2115', 'PSYC2081', 'MSCI5004', 'TABL4722', 'MARK5811', 'MATH3101', 'MMAN9001', 'MATH5885', 'OPTM7612', 'ARTS3570', 'ARTS3483', 'ARTS2282', 'TABL2756', 'AGSM6251', 'COMP9312', 'JURD7236', 'MMAN4200', 'PHYS3111', 'COMM5709', 'AGSM6210', 'PHSL3211', 'PSYC7221', 'PTRL5011', 'MATS1110', 'PSYC4073', 'CLIM6001', 'ARTS4249', 'LAND2272', 'ARTS3065', 'BEES2680', 'ELEC9453', 'FINS5548', 'ACCT5999', 'LING5024', 'ATSI2004', 'LAWS2384', 'CVEN9826', 'CVEN4701', 'LAWS3064', 'COMM3501', 'POLS5125', 'PHCM9761', 'ARTS4609', 'FINS2615', 'MATH1041', 'CHEM4506', 'ARCH7182', 'ANAT3131', 'MDIA5011', 'ARTS4824', 'CEIC9953', 'FOOD9104', 'CEIC4952', 'CVEN9822', 'PTRL4017', 'AGSM9156', 'ARTS1630', 'CEIC3007', 'ECON1203', 'ECON5306', 'MATH2121', 'EDST4505', 'SCIF3041', 'CVEN9453', 'BABS3299', 'CVEN3401', 'ACTL5103', 'VISN4016', 'CLIM1001', 'CHEM2021', 'GEOS2821', 'PSYC1062', 'CVEN9885', 'COMP2511', 'MATH5295', 'ECON4170', 'ARTS4839', 'PSYC7410', 'LAND2202', 'CHEM1021', 'ARTS2511', 'COMP9020', 'LAWS3777', 'OPTM6411', 'COMM2244', 'AGSM9152', 'MODL5103', 'PLAN1002', 'EDST5306', 'LAWS3221', 'BIOS1101', 'ARTS2485', 'GMAT4220', 'GMAT2700', 'VISN5522', 'COMP3902', 'BEIL0007'}\n"
          ]
        }
      ]
    },
    {
      "cell_type": "code",
      "source": [
        "course_base_url = 'https://timetable.unsw.edu.au/2023/' # + CODECODE + .html\n",
        "for course in course_codes:\n",
        "  complete_url = course_base_url + course + '.html'\n",
        "  time_scrapper(complete_url)"
      ],
      "metadata": {
        "id": "maQC9gPAzKPG"
      },
      "execution_count": null,
      "outputs": []
    },
    {
      "cell_type": "code",
      "source": [
        "print(len(all_times))"
      ],
      "metadata": {
        "colab": {
          "base_uri": "https://localhost:8080/"
        },
        "id": "O1WN9AvTyu9t",
        "outputId": "f091e1d1-ee7f-4fd0-e60d-50ef2838d98d"
      },
      "execution_count": null,
      "outputs": [
        {
          "output_type": "stream",
          "name": "stdout",
          "text": [
            "5864\n"
          ]
        }
      ]
    },
    {
      "cell_type": "code",
      "source": [
        "import json"
      ],
      "metadata": {
        "id": "cgJ9TUp6-Ih_"
      },
      "execution_count": null,
      "outputs": []
    },
    {
      "cell_type": "code",
      "source": [
        "json_string = json.dumps([obj.__dict__ for obj in all_times])\n",
        "\n",
        "with open('/content/drive/MyDrive/data/unsw_timetable/time_data', 'w') as file:\n",
        "    json.dump(json_string, file)"
      ],
      "metadata": {
        "id": "LRx_gIAk96nh"
      },
      "execution_count": null,
      "outputs": []
    },
    {
      "cell_type": "code",
      "source": [
        "all_times = []"
      ],
      "metadata": {
        "id": "mDFIHfRYEHFN"
      },
      "execution_count": null,
      "outputs": []
    },
    {
      "cell_type": "code",
      "source": [
        "raw_json = None\n",
        "with open('/content/drive/MyDrive/data/unsw_timetable/time_data', 'r') as file:\n",
        "    raw_json = json.load(file)\n",
        "all_times_raw = json.loads(raw_json)\n",
        "\n",
        "for d in all_times_raw:\n",
        "  if not d['location']:\n",
        "    continue\n",
        "  all_times.append(TimeBlock(d['day'], d['start'], d['end'], d['location']))\n",
        "print(len(all_times))"
      ],
      "metadata": {
        "colab": {
          "base_uri": "https://localhost:8080/"
        },
        "id": "HonaLZZ7B-F7",
        "outputId": "32281666-e0a5-45b2-d19f-74997ef46f60"
      },
      "execution_count": null,
      "outputs": [
        {
          "output_type": "stream",
          "name": "stdout",
          "text": [
            "5653\n"
          ]
        }
      ]
    }
  ]
}